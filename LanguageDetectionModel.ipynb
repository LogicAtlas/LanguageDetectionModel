{
 "cells": [
  {
   "cell_type": "markdown",
   "metadata": {},
   "source": [
    "## Language Detection Model"
   ]
  },
  {
   "cell_type": "markdown",
   "metadata": {},
   "source": [
    "### Import classes needed for preprocessing, training and testing."
   ]
  },
  {
   "cell_type": "code",
   "execution_count": 1,
   "metadata": {
    "collapsed": false
   },
   "outputs": [],
   "source": [
    "import LangByWord as lbw\n",
    "import BuildTrainingDataFiles as btdf"
   ]
  },
  {
   "cell_type": "markdown",
   "metadata": {},
   "source": [
    "### Preprocess the database \n",
    "#### Setup the names of the source and destination directories below:"
   ]
  },
  {
   "cell_type": "code",
   "execution_count": 2,
   "metadata": {
    "collapsed": true
   },
   "outputs": [],
   "source": [
    "# Set the input directory for preprocessing here:\n",
    "base_input_dir = '/Users/frank/data/LanguageDetectionModel/txt'\n",
    "# Set the output directory for the preprocessing here:\n",
    "base_output_dir = '/Users/frank/data/LanguageDetectionModel/exp_data_test'"
   ]
  },
  {
   "cell_type": "markdown",
   "metadata": {},
   "source": [
    "#### Begin preprocessing the language data"
   ]
  },
  {
   "cell_type": "code",
   "execution_count": 3,
   "metadata": {
    "collapsed": false
   },
   "outputs": [
    {
     "name": "stdout",
     "output_type": "stream",
     "text": [
      "Processing directory: /Users/frank/data/LanguageDetectionModel/txt/bg\n",
      "Processing directory: /Users/frank/data/LanguageDetectionModel/txt/cs\n",
      "Processing directory: /Users/frank/data/LanguageDetectionModel/txt/da\n",
      "Processing directory: /Users/frank/data/LanguageDetectionModel/txt/de\n",
      "Processing directory: /Users/frank/data/LanguageDetectionModel/txt/el\n",
      "Processing directory: /Users/frank/data/LanguageDetectionModel/txt/en\n",
      "Processing directory: /Users/frank/data/LanguageDetectionModel/txt/es\n",
      "Processing directory: /Users/frank/data/LanguageDetectionModel/txt/et\n",
      "Processing directory: /Users/frank/data/LanguageDetectionModel/txt/fi\n",
      "Processing directory: /Users/frank/data/LanguageDetectionModel/txt/fr\n",
      "Processing directory: /Users/frank/data/LanguageDetectionModel/txt/hu\n",
      "Processing directory: /Users/frank/data/LanguageDetectionModel/txt/it\n",
      "Processing directory: /Users/frank/data/LanguageDetectionModel/txt/lt\n",
      "Processing directory: /Users/frank/data/LanguageDetectionModel/txt/lv\n",
      "Processing directory: /Users/frank/data/LanguageDetectionModel/txt/nl\n",
      "Processing directory: /Users/frank/data/LanguageDetectionModel/txt/pl\n",
      "Error on Unicode Decode. File will be ignored: /Users/frank/data/LanguageDetectionModel/txt/pl/ep-09-10-22-009.txt\n",
      "Processing directory: /Users/frank/data/LanguageDetectionModel/txt/pt\n",
      "Processing directory: /Users/frank/data/LanguageDetectionModel/txt/ro\n",
      "Processing directory: /Users/frank/data/LanguageDetectionModel/txt/sk\n",
      "Processing directory: /Users/frank/data/LanguageDetectionModel/txt/sl\n",
      "Processing directory: /Users/frank/data/LanguageDetectionModel/txt/sv\n"
     ]
    }
   ],
   "source": [
    "build_obj = btdf.BuildTrainingDataFiles()\n",
    "build_obj.start_building(base_input_dir, base_output_dir)"
   ]
  },
  {
   "cell_type": "markdown",
   "metadata": {},
   "source": [
    "### Train the language detection model and save as an object."
   ]
  },
  {
   "cell_type": "code",
   "execution_count": 4,
   "metadata": {
    "collapsed": false
   },
   "outputs": [
    {
     "name": "stdout",
     "output_type": "stream",
     "text": [
      "final stats: bg unique words: 10005 sentences: 3498\n",
      "final stats: cs unique words: 10003 sentences: 2595\n",
      "final stats: da unique words: 10004 sentences: 1298\n",
      "final stats: de unique words: 10006 sentences: 1050\n",
      "final stats: el unique words: 10003 sentences: 908\n",
      "final stats: en unique words: 10001 sentences: 2405\n",
      "final stats: es unique words: 10008 sentences: 1310\n",
      "final stats: et unique words: 10010 sentences: 2456\n",
      "final stats: fi unique words: 10001 sentences: 613\n",
      "final stats: fr unique words: 10013 sentences: 1359\n",
      "final stats: hu unique words: 10001 sentences: 2416\n",
      "final stats: it unique words: 10002 sentences: 1224\n",
      "final stats: lt unique words: 10005 sentences: 2553\n",
      "final stats: lv unique words: 10004 sentences: 2605\n",
      "final stats: nl unique words: 10004 sentences: 1544\n",
      "final stats: pl unique words: 10003 sentences: 2525\n",
      "final stats: pt unique words: 10003 sentences: 1271\n",
      "final stats: ro unique words: 10001 sentences: 3553\n",
      "final stats: sk unique words: 10007 sentences: 2544\n",
      "final stats: sl unique words: 10004 sentences: 2740\n",
      "final stats: sv unique words: 10008 sentences: 1165\n",
      "Most probable word of each language:\n",
      "language: nl word: de prob: 0.0779\n",
      "language: sv word: att prob: 0.0389\n",
      "language: el word: και prob: 0.0314\n",
      "language: lt word: ir prob: 0.0382\n",
      "language: en word: the prob: 0.0765\n",
      "language: lv word: un prob: 0.0380\n",
      "language: es word: de prob: 0.0703\n",
      "language: it word: di prob: 0.0402\n",
      "language: ro word: de prob: 0.0482\n",
      "language: et word: ja prob: 0.0345\n",
      "language: fr word: de prob: 0.0531\n",
      "language: fi word: ja prob: 0.0390\n",
      "language: bg word: на prob: 0.0768\n",
      "language: pt word: de prob: 0.0464\n",
      "language: hu word: a prob: 0.0919\n",
      "language: da word: at prob: 0.0332\n",
      "language: sl word: in prob: 0.0322\n",
      "language: de word: die prob: 0.0452\n",
      "language: sk word: a prob: 0.0367\n",
      "language: pl word: w prob: 0.0338\n",
      "language: cs word: a prob: 0.0362\n"
     ]
    }
   ],
   "source": [
    "lo = lbw.LangByWord()\n",
    "lo.train(base_output_dir, max_words_per_lang=10000, report_freq=0)\n",
    "lo.print_most_prob_words()\n",
    "object_file = 'LbyW_obj.pck'\n",
    "lo.save_object_to_file(object_file)"
   ]
  },
  {
   "cell_type": "markdown",
   "metadata": {},
   "source": [
    "### Test the model trained during the last step.\n",
    "#### Set the name of the training file in test_file_name below:"
   ]
  },
  {
   "cell_type": "code",
   "execution_count": 5,
   "metadata": {
    "collapsed": false
   },
   "outputs": [
    {
     "name": "stdout",
     "output_type": "stream",
     "text": [
      "cs->hu  \"\"Diktátorství a manipulace\"?\"\n",
      "cs->nl  \"Plyšová zvířátka způsobující alergie?\"\n",
      "cs->sl  \"Prohrávám s ideálním kandidátem.\"\n",
      "cs->sk  \"Vláda zesiluje represálie a vězní opoziční aktivisty.\"\n",
      "da->en  \"Their will is the law, not only at home, but as to the concerns of every nation. ... They have swept away the very constitutions under which the Legislatures acted \" (De må være mere end blinde, dem, som ikke kan se, med hvilken usvigelig systematik, i dette tilfælde og i alle tilfælde, de forfølger deres plan for total ødelæggelse af enhver uafhængig magt. ...\"\n",
      "et->nl  \"(Aplaus, vahelehüüud)\"\n",
      "et->hu  \"(Istung algas kell 9.00)\"\n",
      "et->nl  \"Stabiliseerimine finantsturgudel.\"\n",
      "fi->et  \"- B5-0506/2003 McKenna, Isler Béguin ja Frassoni Verts/ALE-ryhmän puolesta: uskonnonvapauden rajoittaminen Vietnamissa ja harkittu Vietnamin yhdistyneen buddhalaiskirkon eliminoiminen,\"\n",
      "fi->bg  \"Kirjalliset kannanotot (142 artikla)\"\n",
      "fi->et  \"Maamme johtavan museon, Etelä-Afrikan museon, latinankielinen tunnuslause on \"\".\"\n",
      "hu->it  \"Aggodalomra ad okot.\"\n",
      "lt->sv  \"(Posėdis pradėtas 09.00 val.)\"\n",
      "lt->nl  \"Raudonasis kryžius paskelbpavojaus signalą.\"\n",
      "lv->es  \"Es runāju par Banco Português de Negócios un Banco Privado Português.\"\n",
      "pl->et  \"Kazachstan ma przewodniczyć OBWE.\"\n",
      "pl->en  \"Regiony te to belgijski region Limburg, holenderski region Limburg i region Aachen.\"\n",
      "sl->sk  \"A prišlo je do prvega umora.\"\n",
      "sl->nl  \"Nacionalna suverenost.\"\n",
      "Error count: 19 sentence count: 21000 percent error rate:  0.0905\n"
     ]
    }
   ],
   "source": [
    "test_file_name = '/Users/frank/data/LanguageDetectionModel/europarl.test'\n",
    "lo2 = lbw.LangByWord.load_object_from_file(object_file)\n",
    "lo2.test_on_test(test_file_name, report_freq=0)"
   ]
  }
 ],
 "metadata": {
  "kernelspec": {
   "display_name": "Python 3",
   "language": "python",
   "name": "python3"
  },
  "language_info": {
   "codemirror_mode": {
    "name": "ipython",
    "version": 3
   },
   "file_extension": ".py",
   "mimetype": "text/x-python",
   "name": "python",
   "nbconvert_exporter": "python",
   "pygments_lexer": "ipython3",
   "version": "3.5.1"
  }
 },
 "nbformat": 4,
 "nbformat_minor": 0
}
