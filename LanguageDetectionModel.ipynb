{
 "cells": [
  {
   "cell_type": "markdown",
   "metadata": {},
   "source": [
    "## Language Detection Model"
   ]
  },
  {
   "cell_type": "markdown",
   "metadata": {},
   "source": [
    "### Import classes needed for preprocessing, training and testing."
   ]
  },
  {
   "cell_type": "code",
   "execution_count": 1,
   "metadata": {
    "collapsed": false
   },
   "outputs": [],
   "source": [
    "import LangByWord as lbw\n",
    "import BuildTrainingDataFiles as btdf"
   ]
  },
  {
   "cell_type": "markdown",
   "metadata": {},
   "source": [
    "### Preprocess the database \n",
    "#### Setup the names of the source and destination directories below:"
   ]
  },
  {
   "cell_type": "code",
   "execution_count": 2,
   "metadata": {
    "collapsed": true
   },
   "outputs": [],
   "source": [
    "# Set the input directory for preprocessing here:\n",
    "base_input_dir = '/Users/frank/data/LanguageDetectionModel/txt'\n",
    "# Set the output directory for the preprocessing here:\n",
    "base_output_dir = '/Users/frank/data/LanguageDetectionModel/exp_data_test'"
   ]
  },
  {
   "cell_type": "markdown",
   "metadata": {},
   "source": [
    "#### Begin preprocessing the language data"
   ]
  },
  {
   "cell_type": "code",
   "execution_count": 3,
   "metadata": {
    "collapsed": false
   },
   "outputs": [
    {
     "name": "stdout",
     "output_type": "stream",
     "text": [
      "Processing directory: /Users/frank/data/LanguageDetectionModel/txt/bg\n",
      "Processing directory: /Users/frank/data/LanguageDetectionModel/txt/cs\n",
      "Processing directory: /Users/frank/data/LanguageDetectionModel/txt/da\n",
      "Processing directory: /Users/frank/data/LanguageDetectionModel/txt/de\n",
      "Processing directory: /Users/frank/data/LanguageDetectionModel/txt/el\n",
      "Processing directory: /Users/frank/data/LanguageDetectionModel/txt/en\n",
      "Processing directory: /Users/frank/data/LanguageDetectionModel/txt/es\n",
      "Processing directory: /Users/frank/data/LanguageDetectionModel/txt/et\n",
      "Processing directory: /Users/frank/data/LanguageDetectionModel/txt/fi\n",
      "Processing directory: /Users/frank/data/LanguageDetectionModel/txt/fr\n",
      "Processing directory: /Users/frank/data/LanguageDetectionModel/txt/hu\n",
      "Processing directory: /Users/frank/data/LanguageDetectionModel/txt/it\n",
      "Processing directory: /Users/frank/data/LanguageDetectionModel/txt/lt\n",
      "Processing directory: /Users/frank/data/LanguageDetectionModel/txt/lv\n",
      "Processing directory: /Users/frank/data/LanguageDetectionModel/txt/nl\n",
      "Processing directory: /Users/frank/data/LanguageDetectionModel/txt/pl\n",
      "Error on Unicode Decode. File will be ignored: /Users/frank/data/LanguageDetectionModel/txt/pl/ep-09-10-22-009.txt\n",
      "Processing directory: /Users/frank/data/LanguageDetectionModel/txt/pt\n",
      "Processing directory: /Users/frank/data/LanguageDetectionModel/txt/ro\n",
      "Processing directory: /Users/frank/data/LanguageDetectionModel/txt/sk\n",
      "Processing directory: /Users/frank/data/LanguageDetectionModel/txt/sl\n",
      "Processing directory: /Users/frank/data/LanguageDetectionModel/txt/sv\n"
     ]
    }
   ],
   "source": [
    "build_obj = btdf.BuildTrainingDataFiles()\n",
    "build_obj.start_building(base_input_dir, base_output_dir)"
   ]
  },
  {
   "cell_type": "markdown",
   "metadata": {},
   "source": [
    "### Train the language detection model and save as an object."
   ]
  },
  {
   "cell_type": "code",
   "execution_count": 4,
   "metadata": {
    "collapsed": false
   },
   "outputs": [
    {
     "name": "stdout",
     "output_type": "stream",
     "text": [
      "final stats: bg unique words: 96355 sentences: 125622\n",
      "final stats: cs unique words: 167943 sentences: 214385\n",
      "final stats: da unique words: 388074 sentences: 701603\n",
      "final stats: de unique words: 424052 sentences: 687737\n",
      "final stats: el unique words: 264307 sentences: 510871\n",
      "final stats: en unique words: 175125 sentences: 729287\n",
      "final stats: es unique words: 207479 sentences: 706481\n",
      "final stats: et unique words: 290487 sentences: 215298\n",
      "final stats: fi unique words: 732503 sentences: 663728\n",
      "final stats: fr unique words: 217814 sentences: 714641\n",
      "final stats: hu unique words: 311165 sentences: 208222\n",
      "final stats: it unique words: 238525 sentences: 710810\n",
      "final stats: lt unique words: 229957 sentences: 211860\n",
      "final stats: lv unique words: 161945 sentences: 211143\n",
      "final stats: nl unique words: 307921 sentences: 704014\n",
      "final stats: pl unique words: 173748 sentences: 211642\n",
      "final stats: pt unique words: 221651 sentences: 704834\n",
      "final stats: ro unique words: 86004 sentences: 128298\n",
      "final stats: sk unique words: 166801 sentences: 211830\n",
      "final stats: sl unique words: 138086 sentences: 206456\n",
      "final stats: sv unique words: 382638 sentences: 676258\n",
      "Most probable word of each language:\n",
      "language: en word: the prob: 0.0767\n",
      "language: pt word: de prob: 0.0477\n",
      "language: hu word: a prob: 0.0850\n",
      "language: it word: di prob: 0.0400\n",
      "language: de word: die prob: 0.0446\n",
      "language: sv word: att prob: 0.0411\n",
      "language: cs word: a prob: 0.0375\n",
      "language: da word: at prob: 0.0347\n",
      "language: sk word: a prob: 0.0372\n",
      "language: es word: de prob: 0.0692\n",
      "language: ro word: de prob: 0.0478\n",
      "language: bg word: на prob: 0.0660\n",
      "language: et word: ja prob: 0.0330\n",
      "language: sl word: in prob: 0.0329\n",
      "language: lv word: un prob: 0.0381\n",
      "language: fr word: de prob: 0.0556\n",
      "language: nl word: de prob: 0.0761\n",
      "language: fi word: ja prob: 0.0387\n",
      "language: lt word: ir prob: 0.0395\n",
      "language: pl word: w prob: 0.0385\n",
      "language: el word: και prob: 0.0324\n"
     ]
    }
   ],
   "source": [
    "lo = lbw.LangByWord()\n",
    "lo.train(base_output_dir, max_words_per_lang=0, report_freq=0)\n",
    "lo.print_most_prob_words()\n",
    "object_file = 'LbyW_obj.pck'\n",
    "lo.save_object_to_file(object_file)"
   ]
  },
  {
   "cell_type": "markdown",
   "metadata": {},
   "source": [
    "### Test the model trained during the last step.\n",
    "#### Set the name of the training file in test_file_name below:"
   ]
  },
  {
   "cell_type": "code",
   "execution_count": 5,
   "metadata": {
    "collapsed": false
   },
   "outputs": [
    {
     "name": "stdout",
     "output_type": "stream",
     "text": [
      "lv->pt  \"Es runāju par Banco Português de Negócios un Banco Privado Português.\"\n",
      "sk->cs  \"Je to také jednoduché.\"\n",
      "Error count: 2 sentence count: 21000 percent error rate:  0.0095\n"
     ]
    }
   ],
   "source": [
    "test_file_name = '/Users/frank/data/LanguageDetectionModel/europarl.test'\n",
    "lo2 = lbw.LangByWord.load_object_from_file(object_file)\n",
    "lo2.test_on_test(test_file_name, report_freq=0)"
   ]
  }
 ],
 "metadata": {
  "kernelspec": {
   "display_name": "Python 3",
   "language": "python",
   "name": "python3"
  },
  "language_info": {
   "codemirror_mode": {
    "name": "ipython",
    "version": 3
   },
   "file_extension": ".py",
   "mimetype": "text/x-python",
   "name": "python",
   "nbconvert_exporter": "python",
   "pygments_lexer": "ipython3",
   "version": "3.5.1"
  }
 },
 "nbformat": 4,
 "nbformat_minor": 0
}
