{
 "cells": [
  {
   "cell_type": "markdown",
   "metadata": {},
   "source": [
    "## Language Detection Model"
   ]
  },
  {
   "cell_type": "markdown",
   "metadata": {},
   "source": [
    "### Import classes needed for preprocessing, training and testing."
   ]
  },
  {
   "cell_type": "code",
   "execution_count": 1,
   "metadata": {
    "collapsed": false
   },
   "outputs": [],
   "source": [
    "import LangByWord\n",
    "import BuildTrainingDataFiles"
   ]
  },
  {
   "cell_type": "markdown",
   "metadata": {},
   "source": [
    "### Preprocess the database \n",
    "#### Setup the names of the source and destination directories below:"
   ]
  },
  {
   "cell_type": "code",
   "execution_count": 2,
   "metadata": {
    "collapsed": false
   },
   "outputs": [],
   "source": [
    "# Set the input for preprocessing directory here:\n",
    "base_input_dir = '/Users/frank/data/LanguageDetectionModel/txt'\n",
    "# Set the output of the preprocessing directory here:\n",
    "base_output_dir = '/Users/frank/data/LanguageDetectionModel/exp_data_test'"
   ]
  },
  {
   "cell_type": "code",
   "execution_count": 3,
   "metadata": {
    "collapsed": false
   },
   "outputs": [],
   "source": [
    "build_obj = BuildTrainingDataFiles.BuildTrainingDataFiles()\n",
    "#build_obj.start_building(base_input_dir, base_output_dir)"
   ]
  },
  {
   "cell_type": "markdown",
   "metadata": {},
   "source": [
    "### Train the language detection model and save as an object."
   ]
  },
  {
   "cell_type": "code",
   "execution_count": 4,
   "metadata": {
    "collapsed": false
   },
   "outputs": [
    {
     "name": "stdout",
     "output_type": "stream",
     "text": [
      "final stats: bg unique words: 10005 sentences: 3498\n",
      "final stats: cs unique words: 10003 sentences: 2595\n",
      "final stats: da unique words: 10004 sentences: 1298\n",
      "final stats: de unique words: 10006 sentences: 1050\n",
      "final stats: el unique words: 10003 sentences: 908\n",
      "final stats: en unique words: 10001 sentences: 2405\n",
      "final stats: es unique words: 10008 sentences: 1310\n",
      "final stats: et unique words: 10010 sentences: 2456\n",
      "final stats: fi unique words: 10001 sentences: 613\n",
      "final stats: fr unique words: 10013 sentences: 1359\n",
      "final stats: hu unique words: 10001 sentences: 2416\n",
      "final stats: it unique words: 10002 sentences: 1224\n",
      "final stats: lt unique words: 10005 sentences: 2553\n",
      "final stats: lv unique words: 10004 sentences: 2605\n",
      "final stats: nl unique words: 10004 sentences: 1544\n",
      "final stats: pl unique words: 10003 sentences: 2525\n",
      "final stats: pt unique words: 10003 sentences: 1271\n",
      "final stats: ro unique words: 10001 sentences: 3553\n",
      "final stats: sk unique words: 10007 sentences: 2544\n",
      "final stats: sl unique words: 10004 sentences: 2740\n",
      "final stats: sv unique words: 10008 sentences: 1165\n",
      "Most probable word of each language:\n",
      "language: fi word: ja prob: 0.03898270362024057\n",
      "language: lv word: un prob: 0.037973206820789016\n",
      "language: el word: και prob: 0.03135077824736044\n",
      "language: pl word: w prob: 0.03380166136806481\n",
      "language: et word: ja prob: 0.03446360491832252\n",
      "language: it word: di prob: 0.04020971398674573\n",
      "language: cs word: a prob: 0.03617541664296684\n",
      "language: ro word: de prob: 0.04818773057467767\n",
      "language: sv word: att prob: 0.038851858523989674\n",
      "language: da word: at prob: 0.03323623870341325\n",
      "language: fr word: de prob: 0.05308076416219172\n",
      "language: sl word: in prob: 0.032202862476664595\n",
      "language: hu word: a prob: 0.09186369958275382\n",
      "language: lt word: ir prob: 0.03819467244511568\n",
      "language: de word: die prob: 0.04516222175556489\n",
      "language: es word: de prob: 0.07030299679309963\n",
      "language: pt word: de prob: 0.046379719675371765\n",
      "language: en word: the prob: 0.07647893749683175\n",
      "language: bg word: на prob: 0.07681944406257733\n",
      "language: nl word: de prob: 0.07787138196654296\n",
      "language: sk word: a prob: 0.03670751944338925\n"
     ]
    }
   ],
   "source": [
    "lo = LangByWord.LangByWord()\n",
    "lo.train(base_output_dir, 10000)\n",
    "lo.print_most_prob_words()\n",
    "object_file = 'LbyW_obj.pck'\n",
    "lo.save_object_to_file(object_file)"
   ]
  },
  {
   "cell_type": "markdown",
   "metadata": {},
   "source": [
    "### Test the model trained during the last step.\n",
    "#### Set the name of the training file in test_file_name below:"
   ]
  },
  {
   "cell_type": "code",
   "execution_count": 5,
   "metadata": {
    "collapsed": false
   },
   "outputs": [
    {
     "name": "stdout",
     "output_type": "stream",
     "text": [
      "0 1000 0.0\n",
      "cs->hu  \"\"Diktátorství a manipulace\"?\"\n",
      "cs->fi  \"Plyšová zvířátka způsobující alergie?\"\n",
      "cs->sl  \"Prohrávám s ideálním kandidátem.\"\n",
      "cs->sk  \"Vláda zesiluje represálie a vězní opoziční aktivisty.\"\n",
      "4 2000 0.2\n",
      "da->en  \"Their will is the law, not only at home, but as to the concerns of every nation. ... They have swept away the very constitutions under which the Legislatures acted \" (De må være mere end blinde, dem, som ikke kan se, med hvilken usvigelig systematik, i dette tilfælde og i alle tilfælde, de forfølger deres plan for total ødelæggelse af enhver uafhængig magt. ...\"\n",
      "5 3000 0.16666666666666666\n",
      "5 4000 0.125\n",
      "5 5000 0.1\n",
      "5 6000 0.08333333333333333\n",
      "5 7000 0.07142857142857142\n",
      "et->fi  \"(Aplaus, vahelehüüud)\"\n",
      "et->hu  \"(Istung algas kell 9.00)\"\n",
      "et->fi  \"Stabiliseerimine finantsturgudel.\"\n",
      "8 8000 0.1\n",
      "fi->et  \"- B5-0506/2003 McKenna, Isler Béguin ja Frassoni Verts/ALE-ryhmän puolesta: uskonnonvapauden rajoittaminen Vietnamissa ja harkittu Vietnamin yhdistyneen buddhalaiskirkon eliminoiminen,\"\n",
      "fi->bg  \"Kirjalliset kannanotot (142 artikla)\"\n",
      "fi->et  \"Maamme johtavan museon, Etelä-Afrikan museon, latinankielinen tunnuslause on \"\".\"\n",
      "11 9000 0.12222222222222222\n",
      "11 10000 0.11\n",
      "hu->it  \"Aggodalomra ad okot.\"\n",
      "12 11000 0.10909090909090909\n",
      "12 12000 0.1\n",
      "lt->sv  \"(Posėdis pradėtas 09.00 val.)\"\n",
      "lt->fi  \"Raudonasis kryžius paskelbpavojaus signalą.\"\n",
      "14 13000 0.1076923076923077\n",
      "lv->es  \"Es runāju par Banco Português de Negócios un Banco Privado Português.\"\n",
      "15 14000 0.10714285714285714\n",
      "15 15000 0.1\n",
      "pl->et  \"Kazachstan ma przewodniczyć OBWE.\"\n",
      "pl->en  \"Regiony te to belgijski region Limburg, holenderski region Limburg i region Aachen.\"\n",
      "17 16000 0.10625\n",
      "17 17000 0.1\n",
      "17 18000 0.09444444444444444\n",
      "17 19000 0.08947368421052632\n",
      "sl->sk  \"A prišlo je do prvega umora.\"\n",
      "sl->fi  \"Nacionalna suverenost.\"\n",
      "19 20000 0.095\n",
      "19 21000 0.09047619047619047\n",
      "Error count: 19 sentence count: 21000 percent error rate:  0.09047619047619047\n"
     ]
    }
   ],
   "source": [
    "test_file_name = '/Users/frank/data/LanguageDetectionModel/europarl.test'\n",
    "lo2 = LangByWord.LangByWord.load_object_from_file(object_file)\n",
    "lo2.test_on_test(test_file_name)"
   ]
  }
 ],
 "metadata": {
  "kernelspec": {
   "display_name": "Python 3",
   "language": "python",
   "name": "python3"
  },
  "language_info": {
   "codemirror_mode": {
    "name": "ipython",
    "version": 3
   },
   "file_extension": ".py",
   "mimetype": "text/x-python",
   "name": "python",
   "nbconvert_exporter": "python",
   "pygments_lexer": "ipython3",
   "version": "3.5.1"
  }
 },
 "nbformat": 4,
 "nbformat_minor": 0
}
